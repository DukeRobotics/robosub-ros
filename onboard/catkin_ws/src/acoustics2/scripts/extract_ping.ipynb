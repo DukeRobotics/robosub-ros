{
 "cells": [
  {
   "cell_type": "code",
   "execution_count": 2,
   "metadata": {},
   "outputs": [],
   "source": [
    "import numpy as np\n",
    "import matplotlib as mpl\n",
    "import matplotlib.pyplot as plt\n",
    "\n",
    "from scipy.signal import find_peaks, spectrogram\n",
    "from scipy.signal import butter, lfilter\n",
    "from scipy.signal import hilbert\n",
    "from tensorflow import keras\n",
    "import math\n",
    "\n",
    "%matplotlib qt"
   ]
  },
  {
   "cell_type": "code",
   "execution_count": 3,
   "metadata": {},
   "outputs": [
    {
     "name": "stderr",
     "output_type": "stream",
     "text": [
      "2024-01-26 14:33:01.854 Python[85485:7292811] ApplePersistenceIgnoreState: Existing state will not be touched. New state will be written to /var/folders/bw/4tzf4sn540g21cjq2sgsty4w0000gn/T/org.python.python.savedState\n"
     ]
    }
   ],
   "source": [
    "mpl.rcParams['agg.path.chunksize'] = 100_000\n",
    "\n",
    "LOWCUT = 34_500\n",
    "HIGHCUT = 35_500\n",
    "PING_FREQ = 35_000\n",
    "BANDPASS_WIDTHS = [4_000, 2_000, 1000, 750, 500]\n",
    "BANDPASS_WIDTH = 1000\n",
    "LOWPASS_CUTOFF = 6_000 # kinda arbitrarily chosen. In practice, cutoff for envelope detection should be square root of carrier freq (35 kHz) and message freq (not quite sure, chose 1 kHz?) TODO: Run fft on data and see what the frequency spectrum looks like\n",
    "SOUND_SPEED = 1500\n",
    "\n",
    "SAMPLE_RATE = 625_000"
   ]
  },
  {
   "cell_type": "markdown",
   "metadata": {},
   "source": [
    "## Filter Functions"
   ]
  },
  {
   "cell_type": "code",
   "execution_count": 4,
   "metadata": {},
   "outputs": [],
   "source": [
    "def butter_bandpass(lowcut, highcut, fs=SAMPLE_RATE, order=5):\n",
    "    \"\"\"\n",
    "    Generates the coefficients for a Butterworth bandpass filter.\n",
    "\n",
    "    Parameters\n",
    "    ----------\n",
    "    lowcut : int\n",
    "        The lower frequency cutoff\n",
    "\n",
    "    highcut : int\n",
    "        The higher frequency cutoff\n",
    "\n",
    "    fs : int\n",
    "        The sample rate\n",
    "\n",
    "    order : int\n",
    "        The order of the filter\n",
    "\n",
    "    Returns\n",
    "    -------\n",
    "    b : np.array\n",
    "        The numerator coefficients\n",
    "\n",
    "    a : np.array\n",
    "        The denominator coefficients\n",
    "    \"\"\"\n",
    "\n",
    "    nyquist = 0.5 * fs\n",
    "    low = lowcut / nyquist\n",
    "    high = highcut / nyquist\n",
    "    b, a = butter(order, [low, high], btype='band')\n",
    "    return b, a\n"
   ]
  },
  {
   "cell_type": "code",
   "execution_count": 5,
   "metadata": {},
   "outputs": [],
   "source": [
    "def butter_bandpass_filter(data, lowcut=LOWCUT, highcut=HIGHCUT, fs=SAMPLE_RATE, order=5):\n",
    "    \"\"\"\n",
    "    Filters the data using a Butterworth bandpass filter.\n",
    "    \n",
    "    Parameters\n",
    "    ----------\n",
    "    data : np.array\n",
    "        The data to be filtered\n",
    "        \n",
    "    lowcut : int\n",
    "        The lower frequency cutoff\n",
    "    \n",
    "    highcut : int\n",
    "        The higher frequency cutoff\n",
    "    \n",
    "    fs : int\n",
    "        The sample rate\n",
    "    \n",
    "    order : int\n",
    "        The order of the filter\n",
    "    \"\"\"\n",
    "\n",
    "    b, a = butter_bandpass(lowcut, highcut, fs, order=order)\n",
    "    y = lfilter(b, a, data)\n",
    "    return y"
   ]
  },
  {
   "cell_type": "code",
   "execution_count": 6,
   "metadata": {},
   "outputs": [],
   "source": [
    "def butter_lowpass_filter(data, cutoff=LOWPASS_CUTOFF, fs = SAMPLE_RATE, order = 5):\n",
    "    \"\"\"\n",
    "    Filters the data using a Butterworth bandpass filter.\n",
    "    \n",
    "    Parameters\n",
    "    ----------\n",
    "    data : np.array\n",
    "        The data to be filtered\n",
    "        \n",
    "    cutoff : int\n",
    "        The cutoff frequency of the filter\n",
    "    \n",
    "    fs : int\n",
    "        The sample rate\n",
    "    \n",
    "    order : int\n",
    "        The order of the filter\n",
    "    \"\"\"\n",
    "\n",
    "    nyquist = 0.5 * fs\n",
    "    cut = cutoff / nyquist\n",
    "    b, a = butter(order, cut, btype='low')\n",
    "    y = lfilter(b,a,data)\n",
    "    return y"
   ]
  },
  {
   "cell_type": "code",
   "execution_count": 7,
   "metadata": {},
   "outputs": [],
   "source": [
    "# Filter and detect peaks for each channel\n",
    "def detect_wave_packet(channel_data):\n",
    "    \"\"\"\n",
    "    Detects the peaks in a channel's data and returns the peak indices and the filtered signal.\n",
    "\n",
    "    Parameters\n",
    "    ----------\n",
    "    channel_data : np.array\n",
    "        The channel's data\n",
    "\n",
    "    Returns\n",
    "    -------\n",
    "    peaks : np.array\n",
    "        The peak indices\n",
    "\n",
    "    filtered_signal : np.array\n",
    "        The filtered signal\n",
    "    \"\"\"\n",
    "\n",
    "    # Filter the channel data\n",
    "    filtered_signal = butter_bandpass_filter(channel_data)\n",
    "\n",
    "    # Find peaks in the filtered signal\n",
    "    peaks, _ = find_peaks(filtered_signal, height=0.01, distance=100)\n",
    "\n",
    "    return peaks, filtered_signal"
   ]
  },
  {
   "cell_type": "markdown",
   "metadata": {},
   "source": [
    "## Experimentation"
   ]
  },
  {
   "cell_type": "code",
   "execution_count": 8,
   "metadata": {},
   "outputs": [],
   "source": [
    "DATA = np.genfromtxt('sample1.csv', delimiter=',', skip_header=1)\n",
    "RECTIFIED = np.absolute(DATA[:,1])\n",
    "CHANNELS = [np.absolute(DATA[:,i+1]) for i in range(3)]\n",
    "TIMES = DATA[:,0]"
   ]
  },
  {
   "cell_type": "code",
   "execution_count": 1,
   "metadata": {},
   "outputs": [],
   "source": [
    "def get_spike_starts(rectified_data):\n",
    "    filtered = butter_bandpass_filter(rectified_data, 50000, 58000)\n",
    "    envelope = np.abs(hilbert(filtered))\n",
    "    all_peaks = envelope[find_peaks(envelope)[0]]\n",
    "    print(len(all_peaks))\n",
    "    mean = np.mean(all_peaks)\n",
    "    stdev = np.std(all_peaks)\n",
    "    thresh = mean + 5*stdev\n",
    "    thresh_peaks = []\n",
    "    sample = 0\n",
    "    while sample < len(filtered):\n",
    "        if envelope[sample] > thresh:\n",
    "            while envelope[sample-1] < envelope[sample]:\n",
    "                sample -= 1\n",
    "            thresh_peaks.append(sample)\n",
    "            sample += SAMPLE_RATE\n",
    "        sample += 1\n",
    "    return filtered, np.array(thresh_peaks)"
   ]
  },
  {
   "cell_type": "code",
   "execution_count": 9,
   "metadata": {},
   "outputs": [],
   "source": [
    "def get_filtered_spike_starts(data, sample_rate):\n",
    "    all_peaks = data[find_peaks(data)[0]]\n",
    "    mean = np.mean(all_peaks)\n",
    "    stdev = np.std(all_peaks)\n",
    "    thresh = mean + 5*stdev\n",
    "    thresh_peaks = []\n",
    "    sample = 0\n",
    "    while sample < len(data):\n",
    "        if data[sample] > thresh:\n",
    "            thresh_peaks.append(sample)\n",
    "            sample += sample_rate\n",
    "        else:\n",
    "            sample += 1\n",
    "    return np.array(thresh_peaks)\n",
    "\n",
    "def spectrogram_spikes(data, sample_rate):\n",
    "    # filter\n",
    "    filtered = butter_bandpass_filter(data, 50000, 58000)\n",
    "    # get spectrogram\n",
    "    spect = spectrogram(filtered, fs=sample_rate, nperseg=64)\n",
    "    # use 58593.75khz freq\n",
    "    signal1 = spect[2][6]\n",
    "    sample_rate2 = spect[1].searchsorted(1)\n",
    "\n",
    "    peaks = get_filtered_spike_starts(signal1, sample_rate2) * (sample_rate/sample_rate2)\n",
    "    return peaks.astype(int), filtered\n"
   ]
  },
  {
   "cell_type": "code",
   "execution_count": 10,
   "metadata": {},
   "outputs": [],
   "source": [
    "def scuffed_angle(data, sample_rate):\n",
    "    spikes_1, _ = spectrogram_spikes(data[:,1], sample_rate)\n",
    "    spikes_2, _ = spectrogram_spikes(data[:,2], sample_rate)\n",
    "    mic_distance = 0.6 # meters\n",
    "    max_t = 7.4*SAMPLE_RATE*mic_distance/SOUND_SPEED\n",
    "    tds = np.array([spikes_2[i] - spikes_1[i] for i in range(len(spikes_1))]).clip(0, max_t)/max_t\n",
    "    thetas = np.arccos(tds)\n",
    "    print(max_t, tds * max_t)\n",
    "    print(thetas)\n",
    "    print(np.average(thetas)*180/math.pi)"
   ]
  },
  {
   "cell_type": "code",
   "execution_count": 12,
   "metadata": {},
   "outputs": [
    {
     "name": "stdout",
     "output_type": "stream",
     "text": [
      "170492\n"
     ]
    },
    {
     "data": {
      "text/plain": [
       "(array([ 4.16532634e-09,  3.88375442e-08,  1.71568939e-07, ...,\n",
       "        -1.99588178e-03, -1.33387093e-03, -3.04679445e-04]),\n",
       " array([ 1623305,  4183386,  6743416,  9303733, 11863425, 14423515]))"
      ]
     },
     "execution_count": 12,
     "metadata": {},
     "output_type": "execute_result"
    },
    {
     "name": "stderr",
     "output_type": "stream",
     "text": [
      "2024-01-26 18:35:08.787 Python[85485:7292811] WARNING: Secure coding is not enabled for restorable state! Enable secure coding by implementing NSApplicationDelegate.applicationSupportsSecureRestorableState: and returning YES.\n"
     ]
    }
   ],
   "source": [
    "get_spike_starts(DATA[:,1])"
   ]
  },
  {
   "cell_type": "code",
   "execution_count": 15,
   "metadata": {},
   "outputs": [
    {
     "name": "stdout",
     "output_type": "stream",
     "text": [
      "1850.0 [672. 504. 504. 392. 616. 224.]\n",
      "[1.19904977 1.29487614 1.29487614 1.35728592 1.23134161 1.44941742]\n",
      "74.74088339578242\n"
     ]
    }
   ],
   "source": [
    "scuffed_angle(DATA, SAMPLE_RATE)"
   ]
  },
  {
   "cell_type": "code",
   "execution_count": 28,
   "metadata": {},
   "outputs": [],
   "source": [
    "data = np.genfromtxt('sample1.csv', delimiter=',', skip_header=1)"
   ]
  },
  {
   "cell_type": "code",
   "execution_count": 16,
   "metadata": {},
   "outputs": [
    {
     "name": "stdout",
     "output_type": "stream",
     "text": [
      "1850.0 [ 840. 1850.  896.  840.  896. 1456.]\n",
      "[1.0994861  0.         1.06520562 1.0994861  1.06520562 0.66482132]\n",
      "47.6911425316116\n"
     ]
    }
   ],
   "source": [
    "scuffed_angle(data, SAMPLE_RATE)"
   ]
  },
  {
   "cell_type": "code",
   "execution_count": 13,
   "metadata": {},
   "outputs": [],
   "source": [
    "filtered, peaks = get_spike_starts(RECTIFIED)"
   ]
  },
  {
   "cell_type": "code",
   "execution_count": 14,
   "metadata": {},
   "outputs": [
    {
     "data": {
      "text/plain": [
       "[<matplotlib.lines.Line2D at 0x2ae9af4d0>]"
      ]
     },
     "execution_count": 14,
     "metadata": {},
     "output_type": "execute_result"
    },
    {
     "name": "stderr",
     "output_type": "stream",
     "text": [
      "2024-01-25 19:50:50.297 Python[70923:7138412] WARNING: Secure coding is not enabled for restorable state! Enable secure coding by implementing NSApplicationDelegate.applicationSupportsSecureRestorableState: and returning YES.\n"
     ]
    }
   ],
   "source": [
    "plt.plot(DATA[:,0], filtered)\n",
    "plt.plot(DATA[peaks,0], np.zeros(len(peaks)), 'x')"
   ]
  },
  {
   "cell_type": "code",
   "execution_count": 28,
   "metadata": {},
   "outputs": [
    {
     "data": {
      "text/plain": [
       "[<matplotlib.lines.Line2D at 0x2d8373690>]"
      ]
     },
     "execution_count": 28,
     "metadata": {},
     "output_type": "execute_result"
    }
   ],
   "source": [
    "plt.plot(DATA[:,0], filtered)\n",
    "plt.plot(DATA[thresh_peaks,0], np.zeros(len(thresh_peaks)), 'x')"
   ]
  },
  {
   "cell_type": "markdown",
   "metadata": {},
   "source": [
    "## Neural Network"
   ]
  },
  {
   "cell_type": "code",
   "execution_count": 17,
   "metadata": {},
   "outputs": [],
   "source": [
    "def load_peaks(filename):\n",
    "    data = np.genfromtxt(filename, delimiter=',', skip_header=1)\n",
    "    filtered1, peaks1 = get_spike_starts(data[:,1])\n",
    "    filtered2, peaks2 = get_spike_starts(data[:,2])\n",
    "    filtered3, peaks3 = get_spike_starts(data[:,3])\n",
    "    times = data[:,0]\n",
    "    return times, (peaks1, peaks2, peaks3), (filtered1, filtered2, filtered3)"
   ]
  },
  {
   "cell_type": "code",
   "execution_count": 23,
   "metadata": {},
   "outputs": [
    {
     "name": "stderr",
     "output_type": "stream",
     "text": [
      "WARNING:absl:At this time, the v2.11+ optimizer `tf.keras.optimizers.Adam` runs slowly on M1/M2 Macs, please use the legacy Keras optimizer instead, located at `tf.keras.optimizers.legacy.Adam`.\n"
     ]
    }
   ],
   "source": [
    "loaded_model = keras.models.load_model('../models/tdoa_model.h5')  # Replace with the actual model path"
   ]
  },
  {
   "cell_type": "code",
   "execution_count": null,
   "metadata": {},
   "outputs": [],
   "source": [
    "data = np.genfromtxt('sample6.csv', delimiter=',', skip_header=1)"
   ]
  },
  {
   "cell_type": "code",
   "execution_count": 19,
   "metadata": {},
   "outputs": [],
   "source": [
    "filtered1, peaks1 = get_spike_starts(data[:,1])\n",
    "filtered2, peaks2 = get_spike_starts(data[:,2])\n",
    "filtered3, peaks3 = get_spike_starts(data[:,3])\n",
    "times = data[:,0]"
   ]
  },
  {
   "cell_type": "code",
   "execution_count": 20,
   "metadata": {},
   "outputs": [],
   "source": [
    "t1 = 0.0150591426641\n",
    "t2 = 0.0150148075061\n",
    "t3 = 0.0143952152545\n",
    "expected_peaks2 = times.searchsorted(times[peaks1] + (t2-t1))\n",
    "expected_peaks3 = times.searchsorted(times[peaks1] + (t3-t1))"
   ]
  },
  {
   "cell_type": "code",
   "execution_count": 27,
   "metadata": {},
   "outputs": [
    {
     "data": {
      "text/plain": [
       "[<matplotlib.lines.Line2D at 0x46ef63f10>]"
      ]
     },
     "execution_count": 27,
     "metadata": {},
     "output_type": "execute_result"
    }
   ],
   "source": [
    "# plot TIMES with filtered1, filtered2, filtered3 with their peaks on subplots\n",
    "fig, axs = plt.subplots(3, 1)\n",
    "axs[0].plot(times, filtered1)\n",
    "axs[0].plot(times[peaks1], filtered1[peaks1], 'x')\n",
    "\n",
    "axs[1].plot(times, filtered2)\n",
    "axs[1].plot(times[peaks2], np.zeros(len(peaks2)), 'x')\n",
    "axs[1].plot(times[expected_peaks2], np.zeros(len(expected_peaks2)), 'x')\n",
    "\n",
    "axs[2].plot(times, filtered3)\n",
    "axs[2].plot(times[peaks3], np.zeros(len(peaks3)), 'x')\n",
    "axs[2].plot(times[expected_peaks3], np.zeros(len(expected_peaks3)), 'x')"
   ]
  },
  {
   "cell_type": "code",
   "execution_count": 24,
   "metadata": {},
   "outputs": [
    {
     "name": "stdout",
     "output_type": "stream",
     "text": [
      "1/1 [==============================] - 0s 52ms/step\n",
      "[[ -77.90731]\n",
      " [-133.49117]\n",
      " [-131.43312]\n",
      " [ -96.65866]\n",
      " [-360.4488 ]\n",
      " [-354.90094]]\n"
     ]
    }
   ],
   "source": [
    "difs = [\n",
    "    [\n",
    "        times[peaks1[i]] - times[peaks2[i]],\n",
    "        times[peaks1[i]] - times[peaks3[i]]\n",
    "    ] \n",
    "    for i in range(len(peaks1))\n",
    "]\n",
    "# difs = [\n",
    "#     [0.00617665857168 - 0.00605309838017,\n",
    "#     0.00617665857168 - 0.00553132493672]\n",
    "# ]\n",
    "predicted_thetas = loaded_model.predict(np.array(difs))\n",
    "print(predicted_thetas * 180/math.pi)"
   ]
  },
  {
   "cell_type": "code",
   "execution_count": 8,
   "metadata": {},
   "outputs": [],
   "source": [
    "data = DATA"
   ]
  },
  {
   "cell_type": "code",
   "execution_count": 12,
   "metadata": {},
   "outputs": [],
   "source": [
    "# filter\n",
    "filtered1 = butter_bandpass_filter(data[:,1], 50000, 58000)\n",
    "filtered2 = butter_bandpass_filter(data[:,2], 50000, 58000)\n",
    "filtered3 = butter_bandpass_filter(data[:,3], 50000, 58000)\n",
    "# get spectrogram\n",
    "spect1 = spectrogram(filtered1, fs=SAMPLE_RATE, nperseg=64)\n",
    "spect2 = spectrogram(filtered2, fs=SAMPLE_RATE, nperseg=64)\n",
    "spect3 = spectrogram(filtered3, fs=SAMPLE_RATE, nperseg=64)\n",
    "# use 58593.75khz freq\n",
    "signal1 = spect1[2][6]\n",
    "signal2 = spect2[2][6]\n",
    "signal3 = spect3[2][6]\n",
    "\n",
    "sample_rate = spect1[1].searchsorted(1)\n",
    "\n",
    "peaks1 = get_filtered_spike_starts(signal1, sample_rate)\n",
    "peaks2 = get_filtered_spike_starts(signal2, sample_rate)\n",
    "peaks3 = get_filtered_spike_starts(signal3, sample_rate)\n"
   ]
  },
  {
   "cell_type": "code",
   "execution_count": 14,
   "metadata": {},
   "outputs": [],
   "source": [
    "times = spect1[1]"
   ]
  },
  {
   "cell_type": "code",
   "execution_count": 15,
   "metadata": {},
   "outputs": [
    {
     "ename": "NameError",
     "evalue": "name 'loaded_model' is not defined",
     "output_type": "error",
     "traceback": [
      "\u001b[0;31m---------------------------------------------------------------------------\u001b[0m",
      "\u001b[0;31mNameError\u001b[0m                                 Traceback (most recent call last)",
      "Cell \u001b[0;32mIn[15], line 8\u001b[0m\n\u001b[1;32m      1\u001b[0m difs \u001b[38;5;241m=\u001b[39m [\n\u001b[1;32m      2\u001b[0m     [\n\u001b[1;32m      3\u001b[0m         times[peaks1[i]] \u001b[38;5;241m-\u001b[39m times[peaks2[i]],\n\u001b[0;32m   (...)\u001b[0m\n\u001b[1;32m      6\u001b[0m     \u001b[38;5;28;01mfor\u001b[39;00m i \u001b[38;5;129;01min\u001b[39;00m \u001b[38;5;28mrange\u001b[39m(\u001b[38;5;28mlen\u001b[39m(peaks1))\n\u001b[1;32m      7\u001b[0m ]\n\u001b[0;32m----> 8\u001b[0m predicted_thetas \u001b[38;5;241m=\u001b[39m (\u001b[43mloaded_model\u001b[49m\u001b[38;5;241m.\u001b[39mpredict(np\u001b[38;5;241m.\u001b[39marray(difs)) \u001b[38;5;241m*\u001b[39m \u001b[38;5;241m180\u001b[39m\u001b[38;5;241m/\u001b[39mmath\u001b[38;5;241m.\u001b[39mpi) \u001b[38;5;241m%\u001b[39m \u001b[38;5;241m360\u001b[39m\n\u001b[1;32m      9\u001b[0m \u001b[38;5;28mprint\u001b[39m((predicted_thetas))\n\u001b[1;32m     10\u001b[0m \u001b[38;5;28mprint\u001b[39m(np\u001b[38;5;241m.\u001b[39mmean(predicted_thetas))\n",
      "\u001b[0;31mNameError\u001b[0m: name 'loaded_model' is not defined"
     ]
    }
   ],
   "source": [
    "difs = [\n",
    "    [\n",
    "        times[peaks1[i]] - times[peaks2[i]],\n",
    "        times[peaks1[i]] - times[peaks3[i]]\n",
    "    ] \n",
    "    for i in range(len(peaks1))\n",
    "]\n",
    "predicted_thetas = (loaded_model.predict(np.array(difs)) * 180/math.pi) % 360\n",
    "print((predicted_thetas))\n",
    "print(np.mean(predicted_thetas))"
   ]
  },
  {
   "cell_type": "code",
   "execution_count": 203,
   "metadata": {},
   "outputs": [
    {
     "data": {
      "text/plain": [
       "array([ 27508,  73213, 118929, 164647, 210362, 256072])"
      ]
     },
     "execution_count": 203,
     "metadata": {},
     "output_type": "execute_result"
    }
   ],
   "source": [
    "peaks1"
   ]
  },
  {
   "cell_type": "code",
   "execution_count": 25,
   "metadata": {},
   "outputs": [
    {
     "ename": "NameError",
     "evalue": "name 'spect1' is not defined",
     "output_type": "error",
     "traceback": [
      "\u001b[0;31m---------------------------------------------------------------------------\u001b[0m",
      "\u001b[0;31mNameError\u001b[0m                                 Traceback (most recent call last)",
      "Cell \u001b[0;32mIn[25], line 1\u001b[0m\n\u001b[0;32m----> 1\u001b[0m plt\u001b[38;5;241m.\u001b[39mplot(\u001b[43mspect1\u001b[49m[\u001b[38;5;241m1\u001b[39m], signal1)\n\u001b[1;32m      2\u001b[0m plt\u001b[38;5;241m.\u001b[39mplot(spect1[\u001b[38;5;241m1\u001b[39m][peaks1], np\u001b[38;5;241m.\u001b[39mzeros(\u001b[38;5;28mlen\u001b[39m(peaks1)), \u001b[38;5;124m'\u001b[39m\u001b[38;5;124mx\u001b[39m\u001b[38;5;124m'\u001b[39m)\n",
      "\u001b[0;31mNameError\u001b[0m: name 'spect1' is not defined"
     ]
    }
   ],
   "source": [
    "plt.plot(spect1[1], signal1)\n",
    "plt.plot(spect1[1][peaks1], np.zeros(len(peaks1)), 'x')"
   ]
  },
  {
   "cell_type": "code",
   "execution_count": 194,
   "metadata": {},
   "outputs": [
    {
     "data": {
      "text/plain": [
       "array([     0.   ,   9765.625,  19531.25 ,  29296.875,  39062.5  ,\n",
       "        48828.125,  58593.75 ,  68359.375,  78125.   ,  87890.625,\n",
       "        97656.25 , 107421.875, 117187.5  , 126953.125, 136718.75 ,\n",
       "       146484.375, 156250.   , 166015.625, 175781.25 , 185546.875,\n",
       "       195312.5  , 205078.125, 214843.75 , 224609.375, 234375.   ,\n",
       "       244140.625, 253906.25 , 263671.875, 273437.5  , 283203.125,\n",
       "       292968.75 , 302734.375, 312500.   ])"
      ]
     },
     "execution_count": 194,
     "metadata": {},
     "output_type": "execute_result"
    }
   ],
   "source": [
    "spect[0]"
   ]
  },
  {
   "cell_type": "code",
   "execution_count": 195,
   "metadata": {},
   "outputs": [
    {
     "data": {
      "text/plain": [
       "[<matplotlib.lines.Line2D at 0x5f4a313d0>]"
      ]
     },
     "execution_count": 195,
     "metadata": {},
     "output_type": "execute_result"
    }
   ],
   "source": [
    "plt.plot(spect[2][6])"
   ]
  },
  {
   "cell_type": "code",
   "execution_count": 188,
   "metadata": {},
   "outputs": [],
   "source": [
    "min_val = 5e-9\n",
    "# get indices where spectrogram is above min_val\n",
    "indices = np.unique(np.where(spect[2] > min_val)[0])\n",
    "# print(spect[0][indices])\n",
    "spect0 = spect[0][indices]\n",
    "spect1 = spect[1]\n",
    "spect2 = spect[2][indices]"
   ]
  },
  {
   "cell_type": "code",
   "execution_count": 191,
   "metadata": {},
   "outputs": [
    {
     "data": {
      "text/plain": [
       "[<matplotlib.lines.Line2D at 0x58a37f850>]"
      ]
     },
     "execution_count": 191,
     "metadata": {},
     "output_type": "execute_result"
    }
   ],
   "source": [
    "plt.plot(spect2[0])"
   ]
  },
  {
   "cell_type": "code",
   "execution_count": 189,
   "metadata": {},
   "outputs": [],
   "source": [
    "# plot spectrogram\n",
    "plt.pcolormesh(spect1, spect0, spect2)\n",
    "plt.ylabel('Frequency [Hz]')\n",
    "plt.xlabel('Time [sec]')\n",
    "plt.show()"
   ]
  },
  {
   "cell_type": "code",
   "execution_count": 139,
   "metadata": {},
   "outputs": [
    {
     "data": {
      "text/plain": [
       "[<matplotlib.lines.Line2D at 0x33f330b90>]"
      ]
     },
     "execution_count": 139,
     "metadata": {},
     "output_type": "execute_result"
    }
   ],
   "source": [
    "# plot fft\n",
    "plt.figure()\n",
    "plt.plot(np.fft.fftfreq(len(fft), 1/SAMPLE_RATE), np.abs(fft))"
   ]
  }
 ],
 "metadata": {
  "kernelspec": {
   "display_name": "Python 3",
   "language": "python",
   "name": "python3"
  },
  "language_info": {
   "codemirror_mode": {
    "name": "ipython",
    "version": 3
   },
   "file_extension": ".py",
   "mimetype": "text/x-python",
   "name": "python",
   "nbconvert_exporter": "python",
   "pygments_lexer": "ipython3",
   "version": "3.11.0"
  }
 },
 "nbformat": 4,
 "nbformat_minor": 2
}
