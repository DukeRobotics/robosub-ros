{
 "cells": [
  {
   "cell_type": "code",
   "execution_count": 1,
   "metadata": {},
   "outputs": [],
   "source": [
    "FS = 625_000\n",
    "LOWCUT = 30_000.0\n",
    "HIGHCUT = 40_000.0"
   ]
  },
  {
   "cell_type": "code",
   "execution_count": 2,
   "metadata": {},
   "outputs": [],
   "source": [
    "def match_times(times, dt):\n",
    "    '''\n",
    "    Takes a 2d list of timings and groups the times together if they are within dt of each other. If one channel does not have a corresponding time, it is filled with None.\n",
    "    each channel has the times in sequential order (sorted).\n",
    "    '''\n",
    "    groupings = []\n",
    "    indices = [0] * len(times)\n",
    "    while True:\n",
    "        ind_times = [times[i][indices[i]] \n",
    "                        if indices[i] < len(times[i])\n",
    "                        else float('inf') \n",
    "                    for i in range(len(times))]\n",
    "        \n",
    "        min_time = min(ind_times)\n",
    "        \n",
    "        group = [None]*len(times)\n",
    "        \n",
    "        for i in range(len(times)):\n",
    "            if indices[i] == len(times[i]):\n",
    "                continue\n",
    "            if abs(times[i][indices[i]] - min_time) < dt:\n",
    "                group[i] = times[i][indices[i]]\n",
    "                indices[i] += 1\n",
    "        groupings.append(group)\n",
    "\n",
    "        if all([indices[i] == len(times[i]) for i in range(len(times))]):\n",
    "            break\n",
    "        \n",
    "    return groupings\n",
    "    "
   ]
  },
  {
   "cell_type": "code",
   "execution_count": 3,
   "metadata": {},
   "outputs": [],
   "source": [
    "def what_comes_first(groupings):\n",
    "    firsts = []\n",
    "    for group in groupings:\n",
    "        min_val = min([x for x in group if x is not None])\n",
    "        firsts.append(group.index(min_val))\n",
    "    return firsts\n",
    "        "
   ]
  },
  {
   "cell_type": "code",
   "execution_count": 1,
   "metadata": {},
   "outputs": [],
   "source": [
    "from spike_detection import spikes_pipeline, PipelineConfig, pipeline, get_first_hydrophones\n",
    "\n",
    "CENTER_FREQUENCY = 35000\n",
    "\n",
    "LOWCUT = CENTER_FREQUENCY - 1000\n",
    "HIGHCUT = CENTER_FREQUENCY + 1000\n",
    "\n",
    "config = PipelineConfig(LOWCUT, HIGHCUT)\n",
    "config.noise_floor_stdev_mult = 5.5\n",
    "\n",
    "spikes = spikes_pipeline('../binaries/static/', config)"
   ]
  },
  {
   "cell_type": "code",
   "execution_count": 2,
   "metadata": {},
   "outputs": [
    {
     "name": "stdout",
     "output_type": "stream",
     "text": [
      "18\n",
      "5\n",
      "18\n",
      "18\n"
     ]
    }
   ],
   "source": [
    "for group in spikes:\n",
    "    print(len(group))"
   ]
  },
  {
   "cell_type": "code",
   "execution_count": 3,
   "metadata": {},
   "outputs": [
    {
     "name": "stdout",
     "output_type": "stream",
     "text": [
      "[2, 0, 1, 0, 0, 2, 1, 1, 1, 2, 3, 0, 2, 2, 3, 0, 0, 3, 2, 3]\n"
     ]
    }
   ],
   "source": [
    "print(get_first_hydrophones(spikes, config))"
   ]
  },
  {
   "cell_type": "code",
   "execution_count": 9,
   "metadata": {},
   "outputs": [
    {
     "name": "stdout",
     "output_type": "stream",
     "text": [
      "<spike time=\"0.603051\" amp=\"0.166969\"> <spike time=\"2.651098\" amp=\"0.417935\"> <spike time=\"4.699232\" amp=\"0.213092\"> <spike time=\"6.747208\" amp=\"0.276851\"> <spike time=\"8.795211\" amp=\"0.207666\"> <spike time=\"10.843251\" amp=\"0.310765\"> <spike time=\"12.891342\" amp=\"0.209022\"> <spike time=\"14.939256\" amp=\"0.219875\"> <spike time=\"16.987301\" amp=\"0.280921\"> <spike time=\"19.035364\" amp=\"0.359602\"> \n",
      "<spike time=\"0.603010\" amp=\"0.236719\"> <spike time=\"2.651029\" amp=\"0.249149\"> <spike time=\"4.699062\" amp=\"0.164898\"> <spike time=\"6.747138\" amp=\"0.242243\"> <spike time=\"8.795114\" amp=\"0.181472\"> <spike time=\"10.843110\" amp=\"0.152467\"> <spike time=\"12.891214\" amp=\"0.162135\"> <spike time=\"14.939171\" amp=\"0.213239\"> <spike time=\"16.987217\" amp=\"0.185615\"> <spike time=\"19.035236\" amp=\"0.191140\"> \n",
      "<spike time=\"0.603174\" amp=\"0.186961\"> <spike time=\"2.651222\" amp=\"0.170824\"> <spike time=\"4.699112\" amp=\"0.182927\"> <spike time=\"6.747344\" amp=\"0.153344\"> <spike time=\"8.795219\" amp=\"0.211165\"> <spike time=\"10.843189\" amp=\"0.201752\"> <spike time=\"12.891365\" amp=\"0.289156\"> <spike time=\"14.939279\" amp=\"0.122416\"> <spike time=\"16.987354\" amp=\"0.169480\"> <spike time=\"19.035360\" amp=\"0.160067\"> \n",
      "<spike time=\"0.603411\" amp=\"0.221015\"> <spike time=\"2.651726\" amp=\"0.152945\"> <spike time=\"4.699202\" amp=\"0.131162\"> <spike time=\"6.747307\" amp=\"0.157029\"> <spike time=\"8.795253\" amp=\"0.185619\"> <spike time=\"10.843248\" amp=\"0.166559\"> <spike time=\"12.892013\" amp=\"0.144776\"> <spike time=\"14.939326\" amp=\"0.173366\"> <spike time=\"16.987484\" amp=\"0.181534\"> <spike time=\"19.035448\" amp=\"0.172004\"> \n"
     ]
    }
   ],
   "source": [
    "for spike_arr in spikes:\n",
    "    for spike in spike_arr:\n",
    "        print('<spike time=\"{:.6f}\" amp=\"{:.6f}\"> '.format(spike.time, spike.amplitude), end='')\n",
    "    print()"
   ]
  },
  {
   "cell_type": "code",
   "execution_count": 10,
   "metadata": {},
   "outputs": [],
   "source": [
    "firsts = pipeline('./binaries/michaelholdingit/', config)"
   ]
  },
  {
   "cell_type": "code",
   "execution_count": 11,
   "metadata": {},
   "outputs": [
    {
     "data": {
      "text/plain": [
       "[1, 1, 1, 1, 1, 1, 1, 1, 1, 1]"
      ]
     },
     "execution_count": 11,
     "metadata": {},
     "output_type": "execute_result"
    }
   ],
   "source": [
    "firsts"
   ]
  }
 ],
 "metadata": {
  "kernelspec": {
   "display_name": ".venv",
   "language": "python",
   "name": "python3"
  },
  "language_info": {
   "codemirror_mode": {
    "name": "ipython",
    "version": 3
   },
   "file_extension": ".py",
   "mimetype": "text/x-python",
   "name": "python",
   "nbconvert_exporter": "python",
   "pygments_lexer": "ipython3",
   "version": "3.11.0"
  }
 },
 "nbformat": 4,
 "nbformat_minor": 2
}
