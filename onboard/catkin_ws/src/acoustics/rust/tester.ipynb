{
 "cells": [
  {
   "cell_type": "code",
   "execution_count": 2,
   "metadata": {},
   "outputs": [],
   "source": [
    "from pinger2 import read_binary_folder, filter_samples, get_spike_times, pipeline\n",
    "from matplotlib import pyplot as plt"
   ]
  },
  {
   "cell_type": "code",
   "execution_count": 7,
   "metadata": {},
   "outputs": [
    {
     "name": "stderr",
     "output_type": "stream",
     "text": [
      "2024-08-06 11:06:37.553 Python[26318:103028368] ApplePersistenceIgnoreState: Existing state will not be touched. New state will be written to /var/folders/bw/4tzf4sn540g21cjq2sgsty4w0000gn/T/org.python.python.savedState\n"
     ]
    }
   ],
   "source": [
    "%matplotlib qt"
   ]
  },
  {
   "cell_type": "code",
   "execution_count": 3,
   "metadata": {},
   "outputs": [],
   "source": [
    "readings = read_binary_folder('./binaries/michaelholdingit/')"
   ]
  },
  {
   "cell_type": "code",
   "execution_count": 4,
   "metadata": {},
   "outputs": [],
   "source": [
    "FS = 625_000\n",
    "LOWCUT = 30_000.0\n",
    "HIGHCUT = 40_000.0"
   ]
  },
  {
   "cell_type": "code",
   "execution_count": 5,
   "metadata": {},
   "outputs": [],
   "source": [
    "channels = readings.channels"
   ]
  },
  {
   "cell_type": "code",
   "execution_count": 6,
   "metadata": {},
   "outputs": [],
   "source": [
    "readings_times = readings.times"
   ]
  },
  {
   "cell_type": "code",
   "execution_count": 5,
   "metadata": {},
   "outputs": [],
   "source": [
    "filtered_samples = filter_samples(readings, LOWCUT, HIGHCUT, FS)"
   ]
  },
  {
   "cell_type": "code",
   "execution_count": 8,
   "metadata": {},
   "outputs": [
    {
     "data": {
      "text/plain": [
       "[<matplotlib.lines.Line2D at 0x3afaea190>]"
      ]
     },
     "execution_count": 8,
     "metadata": {},
     "output_type": "execute_result"
    }
   ],
   "source": [
    "plt.plot(filtered_samples[0])"
   ]
  },
  {
   "cell_type": "code",
   "execution_count": 9,
   "metadata": {},
   "outputs": [
    {
     "data": {
      "text/plain": [
       "624999.9926961892"
      ]
     },
     "execution_count": 9,
     "metadata": {},
     "output_type": "execute_result"
    }
   ],
   "source": [
    "1/(readings_times[1] - readings_times[0])"
   ]
  },
  {
   "cell_type": "code",
   "execution_count": null,
   "metadata": {},
   "outputs": [
    {
     "name": "stdout",
     "output_type": "stream",
     "text": [
      "starting\n",
      "made filter\n",
      "0 channel\n",
      "1 channel\n",
      "2 channel\n",
      "3 channel\n",
      "finished get spike times\n"
     ]
    }
   ],
   "source": [
    "times = get_spike_times(readings, LOWCUT, HIGHCUT, FS)"
   ]
  },
  {
   "cell_type": "code",
   "execution_count": 11,
   "metadata": {},
   "outputs": [
    {
     "data": {
      "text/plain": [
       "[10, 10, 10, 10]"
      ]
     },
     "execution_count": 11,
     "metadata": {},
     "output_type": "execute_result"
    }
   ],
   "source": [
    "[len(t) for t in times]"
   ]
  },
  {
   "cell_type": "code",
   "execution_count": 14,
   "metadata": {},
   "outputs": [],
   "source": [
    "def match_times(times, dt):\n",
    "    '''\n",
    "    Takes a 2d list of timings and groups the times together if they are within dt of each other. If one channel does not have a corresponding time, it is filled with None.\n",
    "    each channel has the times in sequential order (sorted).\n",
    "    '''\n",
    "    groupings = []\n",
    "    indices = [0] * len(times)\n",
    "    while True:\n",
    "        ind_times = [times[i][indices[i]] \n",
    "                        if indices[i] < len(times[i])\n",
    "                        else float('inf') \n",
    "                    for i in range(len(times))]\n",
    "        \n",
    "        min_time = min(ind_times)\n",
    "        \n",
    "        group = [None]*len(times)\n",
    "        \n",
    "        for i in range(len(times)):\n",
    "            if indices[i] == len(times[i]):\n",
    "                continue\n",
    "            if abs(times[i][indices[i]] - min_time) < dt:\n",
    "                group[i] = times[i][indices[i]]\n",
    "                indices[i] += 1\n",
    "        groupings.append(group)\n",
    "\n",
    "        if all([indices[i] == len(times[i]) for i in range(len(times))]):\n",
    "            break\n",
    "        \n",
    "    return groupings\n",
    "    "
   ]
  },
  {
   "cell_type": "code",
   "execution_count": 15,
   "metadata": {},
   "outputs": [],
   "source": [
    "gs = match_times(times, 0.005)"
   ]
  },
  {
   "cell_type": "code",
   "execution_count": 16,
   "metadata": {},
   "outputs": [],
   "source": [
    "def what_comes_first(groupings):\n",
    "    firsts = []\n",
    "    for group in groupings:\n",
    "        min_val = min([x for x in group if x is not None])\n",
    "        firsts.append(group.index(min_val))\n",
    "    return firsts\n",
    "        "
   ]
  },
  {
   "cell_type": "code",
   "execution_count": 17,
   "metadata": {},
   "outputs": [
    {
     "data": {
      "text/plain": [
       "[[0.6030656099319458,\n",
       "  0.6030383706092834,\n",
       "  0.6030591726303101,\n",
       "  0.6030623912811279],\n",
       " [2.651113510131836, 2.65109920501709, 2.6511056423187256, 2.651108741760254],\n",
       " [4.699160099029541, 4.699118614196777, 4.69913911819458, 4.6991424560546875],\n",
       " [6.747177600860596, 6.747150421142578, 6.747156620025635, 6.747159957885742],\n",
       " [8.795210838317871, 8.795169830322266, 8.795190811157227, 8.79517936706543],\n",
       " [10.843249320983887,\n",
       "  10.843209266662598,\n",
       "  10.84321403503418,\n",
       "  10.843217849731445],\n",
       " [12.89128303527832,\n",
       "  12.891257286071777,\n",
       "  12.891263961791992,\n",
       "  12.891266822814941],\n",
       " [14.939311981201172,\n",
       "  14.93927001953125,\n",
       "  14.939276695251465,\n",
       "  14.939279556274414],\n",
       " [16.98734474182129,\n",
       "  16.987316131591797,\n",
       "  16.987306594848633,\n",
       "  16.98732566833496],\n",
       " [19.03537940979004,\n",
       "  19.035337448120117,\n",
       "  19.035356521606445,\n",
       "  19.03536033630371]]"
      ]
     },
     "execution_count": 17,
     "metadata": {},
     "output_type": "execute_result"
    }
   ],
   "source": [
    "match_times(times, 0.005)"
   ]
  },
  {
   "cell_type": "code",
   "execution_count": 18,
   "metadata": {},
   "outputs": [
    {
     "name": "stdout",
     "output_type": "stream",
     "text": [
      "[1, 1, 1, 1, 1, 1, 1, 1, 2, 1]\n"
     ]
    }
   ],
   "source": [
    "print(what_comes_first(match_times(times, 0.005)))"
   ]
  },
  {
   "cell_type": "code",
   "execution_count": 1,
   "metadata": {},
   "outputs": [],
   "source": [
    "from pinger2 import spikes_pipeline, PipelineConfig, pipeline, get_first_hydrophones\n",
    "\n",
    "CENTER_FREQUENCY = 35000\n",
    "\n",
    "LOWCUT = CENTER_FREQUENCY - 1000\n",
    "HIGHCUT = CENTER_FREQUENCY + 1000\n",
    "\n",
    "config = PipelineConfig(LOWCUT, HIGHCUT)\n",
    "config.noise_floor_stdev_mult = 5.5\n",
    "\n",
    "spikes = spikes_pipeline('./binaries/michaelholdingit/', config)"
   ]
  },
  {
   "cell_type": "code",
   "execution_count": 4,
   "metadata": {},
   "outputs": [
    {
     "data": {
      "text/plain": [
       "[[<Spike at 0x104a26970>,\n",
       "  <Spike at 0x104a26e20>,\n",
       "  <Spike at 0x104a26640>,\n",
       "  <Spike at 0x104a26bb0>,\n",
       "  <Spike at 0x104a26f10>,\n",
       "  <Spike at 0x104a26340>,\n",
       "  <Spike at 0x104a27a20>,\n",
       "  <Spike at 0x104a26b50>,\n",
       "  <Spike at 0x104a268e0>,\n",
       "  <Spike at 0x104a26940>],\n",
       " [<Spike at 0x104a268b0>,\n",
       "  <Spike at 0x104a26520>,\n",
       "  <Spike at 0x104a8f630>,\n",
       "  <Spike at 0x104a8f2a0>,\n",
       "  <Spike at 0x104a8f2d0>,\n",
       "  <Spike at 0x104a8dd10>,\n",
       "  <Spike at 0x104a8d4d0>,\n",
       "  <Spike at 0x104a8c5a0>,\n",
       "  <Spike at 0x104a8f4e0>,\n",
       "  <Spike at 0x104a8f4b0>],\n",
       " [<Spike at 0x104a8e130>,\n",
       "  <Spike at 0x104a8fb10>,\n",
       "  <Spike at 0x104a8fd50>,\n",
       "  <Spike at 0x104a8fdb0>,\n",
       "  <Spike at 0x104a8fde0>,\n",
       "  <Spike at 0x104a8fd80>,\n",
       "  <Spike at 0x104a8ff30>,\n",
       "  <Spike at 0x104a8ff60>,\n",
       "  <Spike at 0x104a8f5d0>,\n",
       "  <Spike at 0x104a8f6c0>],\n",
       " [<Spike at 0x104a8f570>,\n",
       "  <Spike at 0x104a8f5a0>,\n",
       "  <Spike at 0x104a8fcc0>,\n",
       "  <Spike at 0x104a8e8e0>,\n",
       "  <Spike at 0x104a8ff00>,\n",
       "  <Spike at 0x104a8fe70>,\n",
       "  <Spike at 0x104a8fe10>,\n",
       "  <Spike at 0x104a8fcf0>,\n",
       "  <Spike at 0x104a8fc90>,\n",
       "  <Spike at 0x104a8fba0>]]"
      ]
     },
     "execution_count": 4,
     "metadata": {},
     "output_type": "execute_result"
    }
   ],
   "source": [
    "spikes"
   ]
  },
  {
   "cell_type": "code",
   "execution_count": 3,
   "metadata": {},
   "outputs": [
    {
     "name": "stdout",
     "output_type": "stream",
     "text": [
      "[1, 1, 1, 1, 1, 1, 1, 1, 1, 1]\n"
     ]
    }
   ],
   "source": [
    "print(get_first_hydrophones(spikes, config))"
   ]
  },
  {
   "cell_type": "code",
   "execution_count": 9,
   "metadata": {},
   "outputs": [
    {
     "name": "stdout",
     "output_type": "stream",
     "text": [
      "<spike time=\"0.603051\" amp=\"0.166969\"> <spike time=\"2.651098\" amp=\"0.417935\"> <spike time=\"4.699232\" amp=\"0.213092\"> <spike time=\"6.747208\" amp=\"0.276851\"> <spike time=\"8.795211\" amp=\"0.207666\"> <spike time=\"10.843251\" amp=\"0.310765\"> <spike time=\"12.891342\" amp=\"0.209022\"> <spike time=\"14.939256\" amp=\"0.219875\"> <spike time=\"16.987301\" amp=\"0.280921\"> <spike time=\"19.035364\" amp=\"0.359602\"> \n",
      "<spike time=\"0.603010\" amp=\"0.236719\"> <spike time=\"2.651029\" amp=\"0.249149\"> <spike time=\"4.699062\" amp=\"0.164898\"> <spike time=\"6.747138\" amp=\"0.242243\"> <spike time=\"8.795114\" amp=\"0.181472\"> <spike time=\"10.843110\" amp=\"0.152467\"> <spike time=\"12.891214\" amp=\"0.162135\"> <spike time=\"14.939171\" amp=\"0.213239\"> <spike time=\"16.987217\" amp=\"0.185615\"> <spike time=\"19.035236\" amp=\"0.191140\"> \n",
      "<spike time=\"0.603174\" amp=\"0.186961\"> <spike time=\"2.651222\" amp=\"0.170824\"> <spike time=\"4.699112\" amp=\"0.182927\"> <spike time=\"6.747344\" amp=\"0.153344\"> <spike time=\"8.795219\" amp=\"0.211165\"> <spike time=\"10.843189\" amp=\"0.201752\"> <spike time=\"12.891365\" amp=\"0.289156\"> <spike time=\"14.939279\" amp=\"0.122416\"> <spike time=\"16.987354\" amp=\"0.169480\"> <spike time=\"19.035360\" amp=\"0.160067\"> \n",
      "<spike time=\"0.603411\" amp=\"0.221015\"> <spike time=\"2.651726\" amp=\"0.152945\"> <spike time=\"4.699202\" amp=\"0.131162\"> <spike time=\"6.747307\" amp=\"0.157029\"> <spike time=\"8.795253\" amp=\"0.185619\"> <spike time=\"10.843248\" amp=\"0.166559\"> <spike time=\"12.892013\" amp=\"0.144776\"> <spike time=\"14.939326\" amp=\"0.173366\"> <spike time=\"16.987484\" amp=\"0.181534\"> <spike time=\"19.035448\" amp=\"0.172004\"> \n"
     ]
    }
   ],
   "source": [
    "for spike_arr in spikes:\n",
    "    for spike in spike_arr:\n",
    "        print('<spike time=\"{:.6f}\" amp=\"{:.6f}\"> '.format(spike.time, spike.amplitude), end='')\n",
    "    print()"
   ]
  },
  {
   "cell_type": "code",
   "execution_count": 10,
   "metadata": {},
   "outputs": [],
   "source": [
    "firsts = pipeline('./binaries/michaelholdingit/', config)"
   ]
  },
  {
   "cell_type": "code",
   "execution_count": 11,
   "metadata": {},
   "outputs": [
    {
     "data": {
      "text/plain": [
       "[1, 1, 1, 1, 1, 1, 1, 1, 1, 1]"
      ]
     },
     "execution_count": 11,
     "metadata": {},
     "output_type": "execute_result"
    }
   ],
   "source": [
    "firsts"
   ]
  }
 ],
 "metadata": {
  "kernelspec": {
   "display_name": ".venv",
   "language": "python",
   "name": "python3"
  },
  "language_info": {
   "codemirror_mode": {
    "name": "ipython",
    "version": 3
   },
   "file_extension": ".py",
   "mimetype": "text/x-python",
   "name": "python",
   "nbconvert_exporter": "python",
   "pygments_lexer": "ipython3",
   "version": "3.11.0"
  }
 },
 "nbformat": 4,
 "nbformat_minor": 2
}
